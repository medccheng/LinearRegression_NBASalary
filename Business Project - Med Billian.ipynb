{
 "cells": [
  {
   "cell_type": "code",
   "execution_count": 1,
   "id": "31d7a278",
   "metadata": {},
   "outputs": [],
   "source": [
    "from bs4 import BeautifulSoup, NavigableString\n",
    "from string import ascii_lowercase\n",
    "import statsmodels.api as sm\n",
    "import pandas as pd\n",
    "import requests\n",
    "import time, os\n",
    "import re\n",
    "import numpy as np"
   ]
  },
  {
   "cell_type": "code",
   "execution_count": null,
   "id": "0bcda1db",
   "metadata": {},
   "outputs": [],
   "source": [
    "from sqlalchemy import create_engine\n",
    "\n",
    "#Get data from database \n",
    "engine = create_engine(\"sqlite:///VPElection2016.db\")\n",
    "engine.table_names()\n",
    "df_vp_precint_data = pd.read_sql('SELECT * FROM VP_precint_data;', engine)\n"
   ]
  }
 ],
 "metadata": {
  "kernelspec": {
   "display_name": "Python [conda env:metis] *",
   "language": "python",
   "name": "conda-env-metis-py"
  },
  "language_info": {
   "codemirror_mode": {
    "name": "ipython",
    "version": 3
   },
   "file_extension": ".py",
   "mimetype": "text/x-python",
   "name": "python",
   "nbconvert_exporter": "python",
   "pygments_lexer": "ipython3",
   "version": "3.8.10"
  }
 },
 "nbformat": 4,
 "nbformat_minor": 5
}
